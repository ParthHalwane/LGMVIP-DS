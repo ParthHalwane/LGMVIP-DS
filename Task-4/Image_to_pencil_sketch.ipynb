{
  "cells": [
    {
      "cell_type": "code",
      "execution_count": null,
      "metadata": {
        "colab": {
          "base_uri": "https://localhost:8080/",
          "height": 1000
        },
        "id": "QC7wZRbMwBFy",
        "outputId": "134cee96-444d-4a6e-8d48-7d84b3232c55"
      },
      "outputs": [],
      "source": [
        "import cv2\n",
        "from google.colab.patches import cv2_imshow\n",
        "\n",
        "def pencil_sketch(image_path):\n",
        "    # Step 1: Read the image in RGB format\n",
        "    image = cv2.imread(image_path)\n",
        "    if image is None:\n",
        "        print(\"Error: Unable to read the image.\")\n",
        "        return\n",
        "\n",
        "    # Step 2: Convert the image to grayscale\n",
        "    gray_image = cv2.cvtColor(image, cv2.COLOR_BGR2GRAY)\n",
        "\n",
        "    # Step 3: Invert the grayscale image (negative image)\n",
        "    inverted_gray = 255 - gray_image\n",
        "\n",
        "    # Step 4: Apply Gaussian Blur to the inverted grayscale image\n",
        "    blurred_image = cv2.GaussianBlur(inverted_gray, (21, 21), sigmaX=0, sigmaY=0)\n",
        "\n",
        "    # Step 5: Invert the blurred image\n",
        "    inverted_blurred = 255 - blurred_image\n",
        "\n",
        "    # Step 6: Create the pencil sketch by dividing the grayscale image by the inverted blurred image\n",
        "    pencil_sketch = cv2.divide(gray_image, inverted_blurred, scale=256.0)\n",
        "\n",
        "    # Display the original and pencil sketch images\n",
        "    cv2_imshow(image)\n",
        "    cv2_imshow(pencil_sketch)\n",
        "    cv2.waitKey(0)\n",
        "    cv2.destroyAllWindows()\n",
        "\n",
        "if __name__ == \"__main__\":\n",
        "    image_path = \"/content/img.jpg\"  # Replace this with the actual path to your image\n",
        "    pencil_sketch(image_path)\n"
      ]
    },
    {
      "cell_type": "code",
      "source": [],
      "metadata": {
        "id": "Eu-mCGrv1LJt"
      },
      "execution_count": null,
      "outputs": []
    }
  ],
  "metadata": {
    "colab": {
      "provenance": []
    },
    "kernelspec": {
      "display_name": "Python 3",
      "name": "python3"
    },
    "language_info": {
      "name": "python"
    }
  },
  "nbformat": 4,
  "nbformat_minor": 0
}